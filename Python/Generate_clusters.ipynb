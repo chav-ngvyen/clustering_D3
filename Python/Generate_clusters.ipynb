{
 "cells": [
  {
   "cell_type": "code",
   "execution_count": 1,
   "id": "62d8e670",
   "metadata": {},
   "outputs": [],
   "source": [
    "import pandas as pd\n",
    "import numpy as np\n",
    "import json \n",
    "\n",
    "import seaborn as sns\n",
    "import matplotlib.pyplot as plt\n",
    "%matplotlib inline\n",
    "import geopandas as gpd\n",
    "import contextily as cx\n",
    "from shapely.geometry import Point\n",
    "\n",
    "import sklearn.cluster as cluster\n",
    "import hdbscan \n",
    "\n",
    "import gc"
   ]
  },
  {
   "cell_type": "code",
   "execution_count": 2,
   "id": "1a56ec34",
   "metadata": {},
   "outputs": [],
   "source": [
    "# All the data cleaning\n",
    "df = pd.read_csv(\"../CSV/Liquor_Licenses.csv\")\n",
    "recode = ['BREW_PUB', 'ENTERTAINMENT',\n",
    "       'SALES_CONSUMPTION', 'SIDEWALK_CAFE', 'SUMMER_GARDEN', 'TASTING',\n",
    "       'WINE_PUB', 'COVERCHARGE', 'DANCING',\n",
    "       'OFFPREMISESTORAGE', 'STORAGEFACILITY', 'DISTILLERY_PUB','GAMES_OF_SKILL',\n",
    "          'SPORTS_WAGGERING']\n",
    "df[recode] = df[recode].replace({np.nan:0,'CHECKED':1 })\n",
    "#Replace TYPE\n",
    "df.TYPE = df.TYPE.replace({'Retail-Class B': 'Retail - Class B',\n",
    "                'Retail-Liquor Store':'Retail - Liquor Store',\n",
    "                 'Retail-Full Service Grocery':'Retail - Full Service Grocery'})\n",
    "dup_list = df[df.duplicated(subset='LICENSE')].LICENSE.to_list()\n",
    "dup = df[df.LICENSE.isin(dup_list)]\n",
    "# Drop duplicates for License and address\n",
    "df = df.drop_duplicates(subset = ['LICENSE','ADDRESS'], keep = 'last')\n",
    "# Drop once again to get rid of the row with wrong address for Gallaudet\n",
    "df = df.drop_duplicates(subset = ['LICENSE'], keep = 'first')"
   ]
  },
  {
   "cell_type": "code",
   "execution_count": 3,
   "id": "a0d29294",
   "metadata": {},
   "outputs": [
    {
     "data": {
      "text/plain": [
       "(2123, 32)"
      ]
     },
     "execution_count": 3,
     "metadata": {},
     "output_type": "execute_result"
    }
   ],
   "source": [
    "df.shape"
   ]
  },
  {
   "cell_type": "code",
   "execution_count": 4,
   "id": "0d93b423",
   "metadata": {},
   "outputs": [
    {
     "data": {
      "text/plain": [
       "Index(['OBJECTID', 'LICENSE', 'TRADE_NAME', 'APPLICANT', 'CLASS', 'ADDRESS',\n",
       "       'ADDRID', 'X', 'Y', 'STATUS', 'TYPE', 'BREW_PUB', 'ENTERTAINMENT',\n",
       "       'SALES_CONSUMPTION', 'SIDEWALK_CAFE', 'SUMMER_GARDEN', 'TASTING',\n",
       "       'WINE_PUB', 'WARD', 'ZIPCODE', 'SMD', 'ANC', 'COVERCHARGE', 'DANCING',\n",
       "       'OFFPREMISESTORAGE', 'STORAGEFACILITY', 'DISTILLERY_PUB', 'LONGITUDE',\n",
       "       'LATITUDE', 'TOTAL_CAPACITY', 'GAMES_OF_SKILL', 'SPORTS_WAGGERING'],\n",
       "      dtype='object')"
      ]
     },
     "execution_count": 4,
     "metadata": {},
     "output_type": "execute_result"
    }
   ],
   "source": [
    "df.columns"
   ]
  },
  {
   "cell_type": "code",
   "execution_count": 5,
   "id": "825c733f",
   "metadata": {
    "scrolled": true
   },
   "outputs": [
    {
     "data": {
      "text/plain": [
       "array([[38.91529142, -76.98528226, 'Ward 5'],\n",
       "       [38.90944603, -77.04564824, 'Ward 2'],\n",
       "       [38.8660913, -76.98214002, 'Ward 8'],\n",
       "       [38.92341947, -77.04313318, 'Ward 1'],\n",
       "       [38.9463559, -77.03300165, 'Ward 4'],\n",
       "       [38.91340013, -76.98829046, 'Ward 5'],\n",
       "       [38.94610649, -77.09612693, 'Ward 3'],\n",
       "       [38.90541497, -77.04990657, 'Ward 2'],\n",
       "       [38.90488356, -77.05750979, 'Ward 2'],\n",
       "       [38.92097326, -77.07227167, 'Ward 3'],\n",
       "       [38.90615368, -77.04205271, 'Ward 2'],\n",
       "       [38.92092683, -77.07161294, 'Ward 3'],\n",
       "       [38.90988803, -77.06445465, 'Ward 2'],\n",
       "       [38.89592455, -77.02216168, 'Ward 2'],\n",
       "       [38.91029431, -76.99642067, 'Ward 5'],\n",
       "       [38.91339811, -77.04602055, 'Ward 2'],\n",
       "       [38.90764641, -77.04193, 'Ward 2'],\n",
       "       [38.91162884, -77.04518543, 'Ward 2'],\n",
       "       [38.92543543, -77.10231797, 'Ward 3'],\n",
       "       [38.89490228, -76.91339924, 'Ward 7']], dtype=object)"
      ]
     },
     "execution_count": 5,
     "metadata": {},
     "output_type": "execute_result"
    }
   ],
   "source": [
    "df[[\"LATITUDE\",\"LONGITUDE\",\"WARD\"]].sample(20).to_numpy()"
   ]
  },
  {
   "cell_type": "code",
   "execution_count": 6,
   "id": "0a41fe20",
   "metadata": {},
   "outputs": [
    {
     "data": {
      "text/plain": [
       "array([[ 38.94611252, -77.09543099],\n",
       "       [ 38.88943338, -77.00276751],\n",
       "       [ 38.90117869, -77.04405503],\n",
       "       [ 38.90499081, -77.06131388],\n",
       "       [ 38.92939756, -77.02359941],\n",
       "       [ 38.9043907 , -77.06245403],\n",
       "       [ 38.9005195 , -77.03066994],\n",
       "       [ 38.9451418 , -77.06368319],\n",
       "       [ 38.91574888, -77.03738369],\n",
       "       [ 38.92940307, -77.03729582]])"
      ]
     },
     "execution_count": 6,
     "metadata": {},
     "output_type": "execute_result"
    }
   ],
   "source": [
    "df[[\"LATITUDE\",\"LONGITUDE\",]][0:10].to_numpy()"
   ]
  },
  {
   "cell_type": "code",
   "execution_count": 7,
   "id": "9bcf22ad",
   "metadata": {},
   "outputs": [
    {
     "data": {
      "text/html": [
       "<div>\n",
       "<style scoped>\n",
       "    .dataframe tbody tr th:only-of-type {\n",
       "        vertical-align: middle;\n",
       "    }\n",
       "\n",
       "    .dataframe tbody tr th {\n",
       "        vertical-align: top;\n",
       "    }\n",
       "\n",
       "    .dataframe thead th {\n",
       "        text-align: right;\n",
       "    }\n",
       "</style>\n",
       "<table border=\"1\" class=\"dataframe\">\n",
       "  <thead>\n",
       "    <tr style=\"text-align: right;\">\n",
       "      <th></th>\n",
       "      <th>X</th>\n",
       "      <th>Y</th>\n",
       "      <th>LATITUDE</th>\n",
       "      <th>LONGITUDE</th>\n",
       "    </tr>\n",
       "  </thead>\n",
       "  <tbody>\n",
       "    <tr>\n",
       "      <th>0</th>\n",
       "      <td>391727.30</td>\n",
       "      <td>142028.47</td>\n",
       "      <td>38.946113</td>\n",
       "      <td>-77.095431</td>\n",
       "    </tr>\n",
       "    <tr>\n",
       "      <th>1</th>\n",
       "      <td>399759.90</td>\n",
       "      <td>135732.29</td>\n",
       "      <td>38.889433</td>\n",
       "      <td>-77.002768</td>\n",
       "    </tr>\n",
       "    <tr>\n",
       "      <th>2</th>\n",
       "      <td>396178.56</td>\n",
       "      <td>137037.03</td>\n",
       "      <td>38.901179</td>\n",
       "      <td>-77.044055</td>\n",
       "    </tr>\n",
       "    <tr>\n",
       "      <th>3</th>\n",
       "      <td>394681.77</td>\n",
       "      <td>137461.07</td>\n",
       "      <td>38.904991</td>\n",
       "      <td>-77.061314</td>\n",
       "    </tr>\n",
       "    <tr>\n",
       "      <th>4</th>\n",
       "      <td>397953.74</td>\n",
       "      <td>140168.94</td>\n",
       "      <td>38.929398</td>\n",
       "      <td>-77.023599</td>\n",
       "    </tr>\n",
       "    <tr>\n",
       "      <th>...</th>\n",
       "      <td>...</td>\n",
       "      <td>...</td>\n",
       "      <td>...</td>\n",
       "      <td>...</td>\n",
       "    </tr>\n",
       "    <tr>\n",
       "      <th>2125</th>\n",
       "      <td>399037.23</td>\n",
       "      <td>136551.16</td>\n",
       "      <td>38.896810</td>\n",
       "      <td>-77.011099</td>\n",
       "    </tr>\n",
       "    <tr>\n",
       "      <th>2126</th>\n",
       "      <td>396370.32</td>\n",
       "      <td>138598.40</td>\n",
       "      <td>38.915245</td>\n",
       "      <td>-77.041853</td>\n",
       "    </tr>\n",
       "    <tr>\n",
       "      <th>2127</th>\n",
       "      <td>394750.17</td>\n",
       "      <td>137509.83</td>\n",
       "      <td>38.905430</td>\n",
       "      <td>-77.060526</td>\n",
       "    </tr>\n",
       "    <tr>\n",
       "      <th>2128</th>\n",
       "      <td>395634.40</td>\n",
       "      <td>137367.41</td>\n",
       "      <td>38.904152</td>\n",
       "      <td>-77.050330</td>\n",
       "    </tr>\n",
       "    <tr>\n",
       "      <th>2129</th>\n",
       "      <td>401276.40</td>\n",
       "      <td>138602.84</td>\n",
       "      <td>38.915291</td>\n",
       "      <td>-76.985282</td>\n",
       "    </tr>\n",
       "  </tbody>\n",
       "</table>\n",
       "<p>2123 rows × 4 columns</p>\n",
       "</div>"
      ],
      "text/plain": [
       "              X          Y   LATITUDE  LONGITUDE\n",
       "0     391727.30  142028.47  38.946113 -77.095431\n",
       "1     399759.90  135732.29  38.889433 -77.002768\n",
       "2     396178.56  137037.03  38.901179 -77.044055\n",
       "3     394681.77  137461.07  38.904991 -77.061314\n",
       "4     397953.74  140168.94  38.929398 -77.023599\n",
       "...         ...        ...        ...        ...\n",
       "2125  399037.23  136551.16  38.896810 -77.011099\n",
       "2126  396370.32  138598.40  38.915245 -77.041853\n",
       "2127  394750.17  137509.83  38.905430 -77.060526\n",
       "2128  395634.40  137367.41  38.904152 -77.050330\n",
       "2129  401276.40  138602.84  38.915291 -76.985282\n",
       "\n",
       "[2123 rows x 4 columns]"
      ]
     },
     "execution_count": 7,
     "metadata": {},
     "output_type": "execute_result"
    }
   ],
   "source": [
    "df[[\"X\",\"Y\",\"LATITUDE\",\"LONGITUDE\"]]"
   ]
  },
  {
   "cell_type": "code",
   "execution_count": 8,
   "id": "079e81fd",
   "metadata": {},
   "outputs": [],
   "source": [
    "# GEOM STUFF\n",
    "\n",
    "# Number of kilometers in one radian\n",
    "kms_per_radian = 6371.0088\n",
    "\n",
    "# represent points consistently as (lat, lon)\n",
    "coords = df[['LATITUDE', 'LONGITUDE']].values\n",
    "\n",
    "# Convert list of lat & lon to radians because scikit learn harversine needs radian\n",
    "X = np.radians(coords)"
   ]
  },
  {
   "cell_type": "code",
   "execution_count": 9,
   "id": "1a2ac251",
   "metadata": {},
   "outputs": [],
   "source": [
    "min_samples = 10\n",
    "epsilon = 0.5\n",
    "\n",
    "\n",
    "db1 = cluster.DBSCAN(eps=epsilon/kms_per_radian,\n",
    "                     min_samples=min_samples,\n",
    "                     algorithm='ball_tree',\n",
    "                     metric='haversine').fit(X)"
   ]
  },
  {
   "cell_type": "code",
   "execution_count": 10,
   "id": "d1928bcd",
   "metadata": {},
   "outputs": [
    {
     "data": {
      "text/plain": [
       "-1"
      ]
     },
     "execution_count": 10,
     "metadata": {},
     "output_type": "execute_result"
    }
   ],
   "source": [
    "db1.labels_.min()"
   ]
  },
  {
   "cell_type": "code",
   "execution_count": 11,
   "id": "6adda47e",
   "metadata": {},
   "outputs": [],
   "source": [
    "min_samples = 5\n",
    "epsilon = 0.2\n",
    "\n",
    "db2 = cluster.DBSCAN(eps=epsilon/kms_per_radian,\n",
    "                     min_samples=min_samples,\n",
    "                     algorithm='ball_tree',\n",
    "                     metric='haversine').fit(X)"
   ]
  },
  {
   "cell_type": "code",
   "execution_count": 12,
   "id": "492bea8e",
   "metadata": {},
   "outputs": [
    {
     "data": {
      "text/plain": [
       "-1"
      ]
     },
     "execution_count": 12,
     "metadata": {},
     "output_type": "execute_result"
    }
   ],
   "source": [
    "db2.labels_.min()"
   ]
  },
  {
   "cell_type": "code",
   "execution_count": 13,
   "id": "92bab09b",
   "metadata": {},
   "outputs": [],
   "source": [
    "min_cluster_size = 15\n",
    "min_samples = 3\n",
    "\n",
    "hdb1 = hdbscan.HDBSCAN(algorithm = 'best',\n",
    "                       min_cluster_size=min_cluster_size,\n",
    "                       min_samples=min_samples,\n",
    "                       metric='haversine').fit(coords)"
   ]
  },
  {
   "cell_type": "code",
   "execution_count": 14,
   "id": "2d11ce82",
   "metadata": {},
   "outputs": [
    {
     "data": {
      "text/plain": [
       "-1"
      ]
     },
     "execution_count": 14,
     "metadata": {},
     "output_type": "execute_result"
    }
   ],
   "source": [
    "hdb1.labels_.min()"
   ]
  },
  {
   "cell_type": "code",
   "execution_count": 15,
   "id": "8d30de64",
   "metadata": {},
   "outputs": [],
   "source": [
    "min_cluster_size = 5\n",
    "min_samples = 2\n",
    "\n",
    "hdb2 = hdbscan.HDBSCAN(algorithm = 'best',\n",
    "                       min_cluster_size=min_cluster_size,\n",
    "                       min_samples=min_samples,\n",
    "                       metric='haversine').fit(coords)"
   ]
  },
  {
   "cell_type": "code",
   "execution_count": 16,
   "id": "413dd6e0",
   "metadata": {},
   "outputs": [
    {
     "data": {
      "text/plain": [
       "-1"
      ]
     },
     "execution_count": 16,
     "metadata": {},
     "output_type": "execute_result"
    }
   ],
   "source": [
    "hdb2.labels_.min()"
   ]
  },
  {
   "cell_type": "code",
   "execution_count": 17,
   "id": "d6c4daa6",
   "metadata": {},
   "outputs": [],
   "source": [
    "min_cluster_size = 10\n",
    "min_samples = 5\n",
    "epsilon = 1\n",
    "sel_method = 'eom'\n",
    "\n",
    "hybrid1 = hdbscan.HDBSCAN(algorithm = 'best',\n",
    "                          min_cluster_size=min_cluster_size,\n",
    "                          min_samples=min_samples,\n",
    "                          metric='haversine',\n",
    "                          cluster_selection_epsilon = epsilon/kms_per_radian,\n",
    "                          cluster_selection_method = sel_method).fit(coords)"
   ]
  },
  {
   "cell_type": "code",
   "execution_count": 18,
   "id": "63c13c43",
   "metadata": {},
   "outputs": [
    {
     "data": {
      "text/plain": [
       "-1"
      ]
     },
     "execution_count": 18,
     "metadata": {},
     "output_type": "execute_result"
    }
   ],
   "source": [
    "hybrid1.labels_.min()"
   ]
  },
  {
   "cell_type": "code",
   "execution_count": 19,
   "id": "f629659a",
   "metadata": {},
   "outputs": [],
   "source": [
    "min_cluster_size = 10\n",
    "min_samples = 1\n",
    "epsilon = 5\n",
    "sel_method = 'leaf'\n",
    "\n",
    "hybrid2 = hdbscan.HDBSCAN(algorithm = 'best',\n",
    "                          min_cluster_size=min_cluster_size,\n",
    "                          min_samples=min_samples,\n",
    "                          metric='haversine',\n",
    "                          cluster_selection_epsilon = epsilon/kms_per_radian,\n",
    "                          cluster_selection_method = sel_method).fit(coords)"
   ]
  },
  {
   "cell_type": "code",
   "execution_count": 20,
   "id": "0b70f0b6",
   "metadata": {},
   "outputs": [
    {
     "data": {
      "text/plain": [
       "-1"
      ]
     },
     "execution_count": 20,
     "metadata": {},
     "output_type": "execute_result"
    }
   ],
   "source": [
    "hybrid2.labels_.min()"
   ]
  },
  {
   "cell_type": "code",
   "execution_count": 21,
   "id": "bc7f573a",
   "metadata": {},
   "outputs": [],
   "source": [
    "# Define a color domain for d3\n",
    "def color_domain(column):\n",
    "    col_min = column.min()\n",
    "    col_max = column.max()\n",
    "    return col_min, col_max"
   ]
  },
  {
   "cell_type": "code",
   "execution_count": 22,
   "id": "6071e7c2",
   "metadata": {},
   "outputs": [
    {
     "data": {
      "text/plain": [
       "(-1, 10)"
      ]
     },
     "execution_count": 22,
     "metadata": {},
     "output_type": "execute_result"
    }
   ],
   "source": [
    "color_domain(db1.labels_)"
   ]
  },
  {
   "cell_type": "code",
   "execution_count": 23,
   "id": "fab28ca9",
   "metadata": {},
   "outputs": [
    {
     "data": {
      "text/plain": [
       "(-1, 55)"
      ]
     },
     "execution_count": 23,
     "metadata": {},
     "output_type": "execute_result"
    }
   ],
   "source": [
    "color_domain(db2.labels_)"
   ]
  },
  {
   "cell_type": "code",
   "execution_count": 27,
   "id": "48cf0242",
   "metadata": {},
   "outputs": [],
   "source": [
    "domain_min, domain_max = [list(x) for x in zip(color_domain(db1.labels_), color_domain(db2.labels_),\n",
    "                               color_domain(hdb1.labels_), color_domain(hdb2.labels_),\n",
    "                               color_domain(hybrid1.labels_), color_domain(hybrid2.labels_))]"
   ]
  },
  {
   "cell_type": "code",
   "execution_count": 28,
   "id": "8dae6051",
   "metadata": {},
   "outputs": [
    {
     "data": {
      "text/plain": [
       "[-1, -1, -1, -1, -1, -1]"
      ]
     },
     "execution_count": 28,
     "metadata": {},
     "output_type": "execute_result"
    }
   ],
   "source": [
    "domain_min"
   ]
  },
  {
   "cell_type": "code",
   "execution_count": 29,
   "id": "388a75ce",
   "metadata": {},
   "outputs": [
    {
     "data": {
      "text/plain": [
       "[10, 55, 47, 198, 65, 55]"
      ]
     },
     "execution_count": 29,
     "metadata": {},
     "output_type": "execute_result"
    }
   ],
   "source": [
    "domain_max"
   ]
  },
  {
   "cell_type": "code",
   "execution_count": 30,
   "id": "ed181d86",
   "metadata": {},
   "outputs": [],
   "source": [
    "df['labels'] = [list(x) for x in zip(db1.labels_, db2.labels_,hdb1.labels_,hdb2.labels_,hybrid1.labels_,hybrid2.labels_)]"
   ]
  },
  {
   "cell_type": "code",
   "execution_count": 31,
   "id": "b4e55764",
   "metadata": {},
   "outputs": [],
   "source": [
    "df['domain_min'] = [domain_min for i in df.index]\n",
    "df['domain_max'] = [domain_max for i in df.index]"
   ]
  },
  {
   "cell_type": "code",
   "execution_count": 32,
   "id": "b3aeb1d2",
   "metadata": {},
   "outputs": [],
   "source": [
    "df = df[['OBJECTID','LONGITUDE','LATITUDE','TRADE_NAME','ADDRESS',\n",
    "         'CLASS','TYPE', 'WARD','ZIPCODE','TOTAL_CAPACITY','labels', 'domain_min', 'domain_max']]"
   ]
  },
  {
   "cell_type": "code",
   "execution_count": 33,
   "id": "f5cc1a11",
   "metadata": {},
   "outputs": [],
   "source": [
    "gdf = gpd.GeoDataFrame(\n",
    "    df, geometry=gpd.points_from_xy(x=df.LONGITUDE, y=df.LATITUDE)\n",
    ")\n",
    "\n"
   ]
  },
  {
   "cell_type": "code",
   "execution_count": 34,
   "id": "d640ec41",
   "metadata": {},
   "outputs": [
    {
     "data": {
      "text/plain": [
       "OBJECTID             int64\n",
       "LONGITUDE          float64\n",
       "LATITUDE           float64\n",
       "TRADE_NAME          object\n",
       "ADDRESS             object\n",
       "CLASS               object\n",
       "TYPE                object\n",
       "WARD                object\n",
       "ZIPCODE              int64\n",
       "TOTAL_CAPACITY     float64\n",
       "labels              object\n",
       "domain_min          object\n",
       "domain_max          object\n",
       "geometry          geometry\n",
       "dtype: object"
      ]
     },
     "execution_count": 34,
     "metadata": {},
     "output_type": "execute_result"
    }
   ],
   "source": [
    "gdf.dtypes"
   ]
  },
  {
   "cell_type": "code",
   "execution_count": 35,
   "id": "14012d26",
   "metadata": {},
   "outputs": [],
   "source": [
    "# Because JSON doesn't like numpy arrays, convert them to pandas int\n",
    "# https://github.com/automl/SMAC3/issues/453\n",
    "\n",
    "\n",
    "def myconverter(obj):\n",
    "        if isinstance(obj, np.integer):\n",
    "            return int(obj)\n",
    "        elif isinstance(obj, np.floating):\n",
    "            return float(obj)\n",
    "        elif isinstance(obj, np.ndarray):\n",
    "            return obj.tolist()\n",
    "        elif isinstance(obj, datetime.datetime):\n",
    "            return obj.__str__()"
   ]
  },
  {
   "cell_type": "code",
   "execution_count": 36,
   "id": "bfc3cc62",
   "metadata": {},
   "outputs": [],
   "source": [
    "# Cannot use geopandas to_file because each row of labels is a list \n",
    "# https://issueexplorer.com/issue/geopandas/geopandas/2113\n",
    "\n",
    "with open(\"../GeoJSON/labeled.geojson\", \"w\") as f:\n",
    "    json.dump(gdf.__geo_interface__, f, default=myconverter)"
   ]
  },
  {
   "cell_type": "code",
   "execution_count": 37,
   "id": "6fe6d36b",
   "metadata": {},
   "outputs": [],
   "source": [
    "with open(\"../GeoJSON/labeled.geojson\", \"r\") as f:\n",
    "    features = json.load(f)\n",
    "    gdf2 = gpd.GeoDataFrame.from_features(features)"
   ]
  },
  {
   "cell_type": "code",
   "execution_count": 38,
   "id": "718d7bdc",
   "metadata": {},
   "outputs": [
    {
     "data": {
      "text/html": [
       "<div>\n",
       "<style scoped>\n",
       "    .dataframe tbody tr th:only-of-type {\n",
       "        vertical-align: middle;\n",
       "    }\n",
       "\n",
       "    .dataframe tbody tr th {\n",
       "        vertical-align: top;\n",
       "    }\n",
       "\n",
       "    .dataframe thead th {\n",
       "        text-align: right;\n",
       "    }\n",
       "</style>\n",
       "<table border=\"1\" class=\"dataframe\">\n",
       "  <thead>\n",
       "    <tr style=\"text-align: right;\">\n",
       "      <th></th>\n",
       "      <th>geometry</th>\n",
       "      <th>ADDRESS</th>\n",
       "      <th>CLASS</th>\n",
       "      <th>LATITUDE</th>\n",
       "      <th>LONGITUDE</th>\n",
       "      <th>OBJECTID</th>\n",
       "      <th>TOTAL_CAPACITY</th>\n",
       "      <th>TRADE_NAME</th>\n",
       "      <th>TYPE</th>\n",
       "      <th>WARD</th>\n",
       "      <th>ZIPCODE</th>\n",
       "      <th>domain_max</th>\n",
       "      <th>domain_min</th>\n",
       "      <th>labels</th>\n",
       "    </tr>\n",
       "  </thead>\n",
       "  <tbody>\n",
       "    <tr>\n",
       "      <th>0</th>\n",
       "      <td>POINT (-77.09543 38.94611)</td>\n",
       "      <td>4822 YUMA ST NW</td>\n",
       "      <td>C</td>\n",
       "      <td>38.946113</td>\n",
       "      <td>-77.095431</td>\n",
       "      <td>65</td>\n",
       "      <td>199.0</td>\n",
       "      <td>Decarlos Restaurant</td>\n",
       "      <td>Restaurant</td>\n",
       "      <td>Ward 3</td>\n",
       "      <td>20016</td>\n",
       "      <td>[10, 55, 47, 198, 65, 55]</td>\n",
       "      <td>[-1, -1, -1, -1, -1, -1]</td>\n",
       "      <td>[-1, 0, -1, 9, -1, -1]</td>\n",
       "    </tr>\n",
       "    <tr>\n",
       "      <th>1</th>\n",
       "      <td>POINT (-77.00277 38.88943)</td>\n",
       "      <td>201 EAST CAPITOL ST SE</td>\n",
       "      <td>C</td>\n",
       "      <td>38.889433</td>\n",
       "      <td>-77.002768</td>\n",
       "      <td>66</td>\n",
       "      <td>NaN</td>\n",
       "      <td>Folger Shakespeare Library</td>\n",
       "      <td>Multipurpose</td>\n",
       "      <td>Ward 6</td>\n",
       "      <td>20003</td>\n",
       "      <td>[10, 55, 47, 198, 65, 55]</td>\n",
       "      <td>[-1, -1, -1, -1, -1, -1]</td>\n",
       "      <td>[0, -1, -1, -1, -1, -1]</td>\n",
       "    </tr>\n",
       "    <tr>\n",
       "      <th>2</th>\n",
       "      <td>POINT (-77.04406 38.90118)</td>\n",
       "      <td>1912 I ST NW</td>\n",
       "      <td>C</td>\n",
       "      <td>38.901179</td>\n",
       "      <td>-77.044055</td>\n",
       "      <td>67</td>\n",
       "      <td>96.0</td>\n",
       "      <td>Chalin's Restaurant</td>\n",
       "      <td>Restaurant</td>\n",
       "      <td>Ward 2</td>\n",
       "      <td>20006</td>\n",
       "      <td>[10, 55, 47, 198, 65, 55]</td>\n",
       "      <td>[-1, -1, -1, -1, -1, -1]</td>\n",
       "      <td>[0, 1, 39, 190, 60, 50]</td>\n",
       "    </tr>\n",
       "    <tr>\n",
       "      <th>3</th>\n",
       "      <td>POINT (-77.06131 38.90499)</td>\n",
       "      <td>3100 M ST NW</td>\n",
       "      <td>A</td>\n",
       "      <td>38.904991</td>\n",
       "      <td>-77.061314</td>\n",
       "      <td>68</td>\n",
       "      <td>NaN</td>\n",
       "      <td>Potomac Wines And Spirits</td>\n",
       "      <td>Retail - Liquor Store</td>\n",
       "      <td>Ward 2</td>\n",
       "      <td>20007</td>\n",
       "      <td>[10, 55, 47, 198, 65, 55]</td>\n",
       "      <td>[-1, -1, -1, -1, -1, -1]</td>\n",
       "      <td>[0, 2, 34, 150, 40, 46]</td>\n",
       "    </tr>\n",
       "    <tr>\n",
       "      <th>4</th>\n",
       "      <td>POINT (-77.02360 38.92940)</td>\n",
       "      <td>3108 GEORGIA AVE NW</td>\n",
       "      <td>B</td>\n",
       "      <td>38.929398</td>\n",
       "      <td>-77.023599</td>\n",
       "      <td>69</td>\n",
       "      <td>NaN</td>\n",
       "      <td>Kusa Market</td>\n",
       "      <td>Retail - Grocery</td>\n",
       "      <td>Ward 1</td>\n",
       "      <td>20010</td>\n",
       "      <td>[10, 55, 47, 198, 65, 55]</td>\n",
       "      <td>[-1, -1, -1, -1, -1, -1]</td>\n",
       "      <td>[0, 3, 21, 83, 31, 33]</td>\n",
       "    </tr>\n",
       "    <tr>\n",
       "      <th>...</th>\n",
       "      <td>...</td>\n",
       "      <td>...</td>\n",
       "      <td>...</td>\n",
       "      <td>...</td>\n",
       "      <td>...</td>\n",
       "      <td>...</td>\n",
       "      <td>...</td>\n",
       "      <td>...</td>\n",
       "      <td>...</td>\n",
       "      <td>...</td>\n",
       "      <td>...</td>\n",
       "      <td>...</td>\n",
       "      <td>...</td>\n",
       "      <td>...</td>\n",
       "    </tr>\n",
       "    <tr>\n",
       "      <th>2118</th>\n",
       "      <td>POINT (-77.01110 38.89681)</td>\n",
       "      <td>525 NEW JERSEY AVE NW</td>\n",
       "      <td>C</td>\n",
       "      <td>38.896810</td>\n",
       "      <td>-77.011099</td>\n",
       "      <td>2126</td>\n",
       "      <td>14.0</td>\n",
       "      <td>Hilton Washington DC Capitol Hill</td>\n",
       "      <td>Hotel</td>\n",
       "      <td>Ward 6</td>\n",
       "      <td>20001</td>\n",
       "      <td>[10, 55, 47, 198, 65, 55]</td>\n",
       "      <td>[-1, -1, -1, -1, -1, -1]</td>\n",
       "      <td>[0, 27, 27, 89, 35, 39]</td>\n",
       "    </tr>\n",
       "    <tr>\n",
       "      <th>2119</th>\n",
       "      <td>POINT (-77.04185 38.91524)</td>\n",
       "      <td>1836 18TH ST NW</td>\n",
       "      <td>C</td>\n",
       "      <td>38.915245</td>\n",
       "      <td>-77.041853</td>\n",
       "      <td>2127</td>\n",
       "      <td>96.0</td>\n",
       "      <td>TBD</td>\n",
       "      <td>Restaurant</td>\n",
       "      <td>Ward 2</td>\n",
       "      <td>20009</td>\n",
       "      <td>[10, 55, 47, 198, 65, 55]</td>\n",
       "      <td>[-1, -1, -1, -1, -1, -1]</td>\n",
       "      <td>[0, 7, 32, 113, 41, 47]</td>\n",
       "    </tr>\n",
       "    <tr>\n",
       "      <th>2120</th>\n",
       "      <td>POINT (-77.06053 38.90543)</td>\n",
       "      <td>3057 M ST NW</td>\n",
       "      <td>C</td>\n",
       "      <td>38.905430</td>\n",
       "      <td>-77.060526</td>\n",
       "      <td>2128</td>\n",
       "      <td>80.0</td>\n",
       "      <td>Amigo Mio</td>\n",
       "      <td>Restaurant</td>\n",
       "      <td>Ward 2</td>\n",
       "      <td>20007</td>\n",
       "      <td>[10, 55, 47, 198, 65, 55]</td>\n",
       "      <td>[-1, -1, -1, -1, -1, -1]</td>\n",
       "      <td>[0, 2, 34, -1, 40, 46]</td>\n",
       "    </tr>\n",
       "    <tr>\n",
       "      <th>2121</th>\n",
       "      <td>POINT (-77.05033 38.90415)</td>\n",
       "      <td>1118 23rd ST NW</td>\n",
       "      <td>C</td>\n",
       "      <td>38.904152</td>\n",
       "      <td>-77.050330</td>\n",
       "      <td>2129</td>\n",
       "      <td>708.0</td>\n",
       "      <td>Imperfecto</td>\n",
       "      <td>Restaurant</td>\n",
       "      <td>Ward 2</td>\n",
       "      <td>20037</td>\n",
       "      <td>[10, 55, 47, 198, 65, 55]</td>\n",
       "      <td>[-1, -1, -1, -1, -1, -1]</td>\n",
       "      <td>[0, 1, 44, 170, 59, 50]</td>\n",
       "    </tr>\n",
       "    <tr>\n",
       "      <th>2122</th>\n",
       "      <td>POINT (-76.98528 38.91529)</td>\n",
       "      <td>1369 NEW YORK AVE NE</td>\n",
       "      <td>A</td>\n",
       "      <td>38.915291</td>\n",
       "      <td>-76.985282</td>\n",
       "      <td>2130</td>\n",
       "      <td>NaN</td>\n",
       "      <td>Ivy City Wine Company</td>\n",
       "      <td>Manufacturer</td>\n",
       "      <td>Ward 5</td>\n",
       "      <td>20002</td>\n",
       "      <td>[10, 55, 47, 198, 65, 55]</td>\n",
       "      <td>[-1, -1, -1, -1, -1, -1]</td>\n",
       "      <td>[6, 38, 18, 68, 24, 25]</td>\n",
       "    </tr>\n",
       "  </tbody>\n",
       "</table>\n",
       "<p>2123 rows × 14 columns</p>\n",
       "</div>"
      ],
      "text/plain": [
       "                        geometry                 ADDRESS CLASS   LATITUDE  \\\n",
       "0     POINT (-77.09543 38.94611)         4822 YUMA ST NW     C  38.946113   \n",
       "1     POINT (-77.00277 38.88943)  201 EAST CAPITOL ST SE     C  38.889433   \n",
       "2     POINT (-77.04406 38.90118)            1912 I ST NW     C  38.901179   \n",
       "3     POINT (-77.06131 38.90499)            3100 M ST NW     A  38.904991   \n",
       "4     POINT (-77.02360 38.92940)     3108 GEORGIA AVE NW     B  38.929398   \n",
       "...                          ...                     ...   ...        ...   \n",
       "2118  POINT (-77.01110 38.89681)   525 NEW JERSEY AVE NW     C  38.896810   \n",
       "2119  POINT (-77.04185 38.91524)         1836 18TH ST NW     C  38.915245   \n",
       "2120  POINT (-77.06053 38.90543)            3057 M ST NW     C  38.905430   \n",
       "2121  POINT (-77.05033 38.90415)         1118 23rd ST NW     C  38.904152   \n",
       "2122  POINT (-76.98528 38.91529)    1369 NEW YORK AVE NE     A  38.915291   \n",
       "\n",
       "      LONGITUDE  OBJECTID  TOTAL_CAPACITY                         TRADE_NAME  \\\n",
       "0    -77.095431        65           199.0                Decarlos Restaurant   \n",
       "1    -77.002768        66             NaN         Folger Shakespeare Library   \n",
       "2    -77.044055        67            96.0                Chalin's Restaurant   \n",
       "3    -77.061314        68             NaN          Potomac Wines And Spirits   \n",
       "4    -77.023599        69             NaN                        Kusa Market   \n",
       "...         ...       ...             ...                                ...   \n",
       "2118 -77.011099      2126            14.0  Hilton Washington DC Capitol Hill   \n",
       "2119 -77.041853      2127            96.0                                TBD   \n",
       "2120 -77.060526      2128            80.0                          Amigo Mio   \n",
       "2121 -77.050330      2129           708.0                         Imperfecto   \n",
       "2122 -76.985282      2130             NaN              Ivy City Wine Company   \n",
       "\n",
       "                       TYPE    WARD  ZIPCODE                 domain_max  \\\n",
       "0                Restaurant  Ward 3    20016  [10, 55, 47, 198, 65, 55]   \n",
       "1              Multipurpose  Ward 6    20003  [10, 55, 47, 198, 65, 55]   \n",
       "2                Restaurant  Ward 2    20006  [10, 55, 47, 198, 65, 55]   \n",
       "3     Retail - Liquor Store  Ward 2    20007  [10, 55, 47, 198, 65, 55]   \n",
       "4          Retail - Grocery  Ward 1    20010  [10, 55, 47, 198, 65, 55]   \n",
       "...                     ...     ...      ...                        ...   \n",
       "2118                  Hotel  Ward 6    20001  [10, 55, 47, 198, 65, 55]   \n",
       "2119             Restaurant  Ward 2    20009  [10, 55, 47, 198, 65, 55]   \n",
       "2120             Restaurant  Ward 2    20007  [10, 55, 47, 198, 65, 55]   \n",
       "2121             Restaurant  Ward 2    20037  [10, 55, 47, 198, 65, 55]   \n",
       "2122           Manufacturer  Ward 5    20002  [10, 55, 47, 198, 65, 55]   \n",
       "\n",
       "                    domain_min                   labels  \n",
       "0     [-1, -1, -1, -1, -1, -1]   [-1, 0, -1, 9, -1, -1]  \n",
       "1     [-1, -1, -1, -1, -1, -1]  [0, -1, -1, -1, -1, -1]  \n",
       "2     [-1, -1, -1, -1, -1, -1]  [0, 1, 39, 190, 60, 50]  \n",
       "3     [-1, -1, -1, -1, -1, -1]  [0, 2, 34, 150, 40, 46]  \n",
       "4     [-1, -1, -1, -1, -1, -1]   [0, 3, 21, 83, 31, 33]  \n",
       "...                        ...                      ...  \n",
       "2118  [-1, -1, -1, -1, -1, -1]  [0, 27, 27, 89, 35, 39]  \n",
       "2119  [-1, -1, -1, -1, -1, -1]  [0, 7, 32, 113, 41, 47]  \n",
       "2120  [-1, -1, -1, -1, -1, -1]   [0, 2, 34, -1, 40, 46]  \n",
       "2121  [-1, -1, -1, -1, -1, -1]  [0, 1, 44, 170, 59, 50]  \n",
       "2122  [-1, -1, -1, -1, -1, -1]  [6, 38, 18, 68, 24, 25]  \n",
       "\n",
       "[2123 rows x 14 columns]"
      ]
     },
     "execution_count": 38,
     "metadata": {},
     "output_type": "execute_result"
    }
   ],
   "source": [
    "gdf2"
   ]
  }
 ],
 "metadata": {
  "kernelspec": {
   "display_name": "Python 3 (ipykernel)",
   "language": "python",
   "name": "python3"
  },
  "language_info": {
   "codemirror_mode": {
    "name": "ipython",
    "version": 3
   },
   "file_extension": ".py",
   "mimetype": "text/x-python",
   "name": "python",
   "nbconvert_exporter": "python",
   "pygments_lexer": "ipython3",
   "version": "3.8.12"
  }
 },
 "nbformat": 4,
 "nbformat_minor": 5
}
